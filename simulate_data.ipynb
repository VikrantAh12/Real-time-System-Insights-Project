{
 "cells": [
  {
   "cell_type": "markdown",
   "id": "2e921cc9",
   "metadata": {},
   "source": [
    "Goal Simulate a real-time system monitoring environment with alert generation and anomaly detection for APIs or transaction systems."
   ]
  },
  {
   "cell_type": "markdown",
   "id": "19155d2f",
   "metadata": {},
   "source": [
    "Step 1: Dataset Creation (Simulated API/Transaction Logs)"
   ]
  },
  {
   "cell_type": "code",
   "execution_count": 1,
   "id": "072b0adf",
   "metadata": {},
   "outputs": [],
   "source": [
    "import pandas as pd\n",
    "import numpy as np\n",
    "from datetime import datetime, timedelta"
   ]
  },
  {
   "cell_type": "code",
   "execution_count": 2,
   "id": "f732f18c",
   "metadata": {},
   "outputs": [],
   "source": [
    "timestamps = [datetime(2025, 7, 1) + timedelta(minutes=i) for i in range(1000)]\n",
    "data = {\n",
    "    'Timestamp': timestamps,\n",
    "    'API_Name': np.random.choice(['/create_order', '/refund', '/get_status'], size=1000),\n",
    "    'Response_Time': np.random.normal(200, 70, size=1000).astype(int),\n",
    "    'Status_Code': np.random.choice([200, 200, 200, 500, 502], size=1000),\n",
    "    'Transactions_Count': np.random.randint(100, 600, size=1000),\n",
    "}\n",
    "df = pd.DataFrame(data)\n",
    "df['Errors'] = df['Status_Code'].apply(lambda x: 1 if x >= 500 else 0)\n",
    "df.to_csv(\"api_monitoring_logs.csv\", index=False)\n"
   ]
  },
  {
   "cell_type": "code",
   "execution_count": 4,
   "id": "3b5a54d7",
   "metadata": {},
   "outputs": [
    {
     "name": "stdout",
     "output_type": "stream",
     "text": [
      "Collecting psycopg2-binary\n",
      "  Obtaining dependency information for psycopg2-binary from https://files.pythonhosted.org/packages/61/69/3b3d7bd583c6d3cbe5100802efa5beacaacc86e37b653fc708bf3d6853b8/psycopg2_binary-2.9.10-cp311-cp311-win_amd64.whl.metadata\n",
      "  Downloading psycopg2_binary-2.9.10-cp311-cp311-win_amd64.whl.metadata (5.0 kB)\n",
      "Downloading psycopg2_binary-2.9.10-cp311-cp311-win_amd64.whl (1.2 MB)\n",
      "   ---------------------------------------- 0.0/1.2 MB ? eta -:--:--\n",
      "   ---------------------------------------- 0.0/1.2 MB ? eta -:--:--\n",
      "   ---------------------------------------- 0.0/1.2 MB ? eta -:--:--\n",
      "   ---------------------------------------- 0.0/1.2 MB ? eta -:--:--\n",
      "   ---------------------------------------- 0.0/1.2 MB ? eta -:--:--\n",
      "   -- ------------------------------------- 0.1/1.2 MB 363.1 kB/s eta 0:00:04\n",
      "   ---- ----------------------------------- 0.1/1.2 MB 554.9 kB/s eta 0:00:02\n",
      "   ----------- ---------------------------- 0.3/1.2 MB 1.3 MB/s eta 0:00:01\n",
      "   ---------------------- ----------------- 0.6/1.2 MB 2.1 MB/s eta 0:00:01\n",
      "   ---------------------------------- ----- 1.0/1.2 MB 2.9 MB/s eta 0:00:01\n",
      "   ---------------------------------------- 1.2/1.2 MB 3.0 MB/s eta 0:00:00\n",
      "Installing collected packages: psycopg2-binary\n",
      "Successfully installed psycopg2-binary-2.9.10\n"
     ]
    }
   ],
   "source": [
    "!pip install psycopg2-binary"
   ]
  },
  {
   "cell_type": "code",
   "execution_count": 8,
   "id": "70b0d024",
   "metadata": {},
   "outputs": [
    {
     "name": "stdout",
     "output_type": "stream",
     "text": [
      "Data inserted successfully.\n"
     ]
    }
   ],
   "source": [
    "\n",
    "import psycopg2\n",
    "\n",
    "# Load your CSV\n",
    "df = pd.read_csv(\"api_monitoring_logs.csv\")\n",
    "\n",
    "# Connect to PostgreSQL\n",
    "conn = psycopg2.connect(\n",
    "    host=\"localhost\",\n",
    "    database=\"Real-time System Insights Project\",\n",
    "    user=\"postgres\",\n",
    "    password=\"1BM20ME182\"\n",
    ")\n",
    "cur = conn.cursor()\n",
    "\n",
    "# Insert data row by row\n",
    "for _, row in df.iterrows():\n",
    "    cur.execute(\"\"\"\n",
    "        INSERT INTO api_logs (timestamp, api_name, response_time, status_code, transcations_count, errors)\n",
    "        VALUES (%s, %s, %s, %s, %s, %s)\n",
    "    \"\"\", tuple(row))\n",
    "\n",
    "conn.commit()\n",
    "cur.close()\n",
    "conn.close()\n",
    "print(\"Data inserted successfully.\")"
   ]
  },
  {
   "cell_type": "code",
   "execution_count": null,
   "id": "42c01137",
   "metadata": {},
   "outputs": [],
   "source": []
  }
 ],
 "metadata": {
  "kernelspec": {
   "display_name": "Python 3 (ipykernel)",
   "language": "python",
   "name": "python3"
  },
  "language_info": {
   "codemirror_mode": {
    "name": "ipython",
    "version": 3
   },
   "file_extension": ".py",
   "mimetype": "text/x-python",
   "name": "python",
   "nbconvert_exporter": "python",
   "pygments_lexer": "ipython3",
   "version": "3.11.5"
  }
 },
 "nbformat": 4,
 "nbformat_minor": 5
}
